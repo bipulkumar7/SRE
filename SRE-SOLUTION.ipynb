{
 "cells": [
  {
   "cell_type": "markdown",
   "id": "2793326b",
   "metadata": {},
   "source": [
    "# Qution 1:\n",
    "\n",
    "  -  Get 1000 or more radnom users from https://random-data-api.com/documentation (Users) in json format\n",
    "  - Save results about users in CSV file\n"
   ]
  },
  {
   "cell_type": "code",
   "execution_count": null,
   "id": "0af8d23e",
   "metadata": {},
   "outputs": [],
   "source": [
    "import requests\n",
    "import json\n",
    "import pandas as pd\n",
    "\n",
    "\n",
    "base_url = \"https://random-data-api.com/api/\"\n",
    "Users = \"/users/random_user\"\n",
    "\n",
    "response_list = []\n",
    "\n",
    "def GetUser():\n",
    "    first_response = requests.get(base_url+Users)\n",
    "    res=first_response.json()\n",
    "    response_list.append(res)\n",
    "\n",
    "for i in range(0,1001):\n",
    "    GetUser()\n",
    "\n",
    "    \n",
    "data=[]\n",
    "for response in response_list:  \n",
    "    data.append({\n",
    "        \"id\": response.get('id'),\n",
    "        \"uid\": response.get('uid'),\n",
    "        \"password\": response.get('password'),\n",
    "        \"first_name\": response.get('first_name'),\n",
    "        \"username\": response.get('username'),\n",
    "        \"last_name\": response.get('last_name'),\n",
    "        \"email\": response.get('email'),\n",
    "        \"avatar\": response.get('avatar'),\n",
    "        \"gender\": response.get('gender'),\n",
    "        \"phone_number\": response.get('first_name'),\n",
    "        \"social_insurance_number\": response.get('social_insurance_number'),\n",
    "        \"date_of_birth\": response.get('date_of_birth'),\n",
    "        \"title\": response.get('employment').get('title'),\n",
    "        \"key_skill\": response.get('employment').get('key_skill'),\n",
    "        \n",
    "        \n",
    "        \"city\": response.get('address').get(\"city\"),\n",
    "        \"street_name\": response.get('address').get(\"street_name\"),\n",
    "        \"street_address\": response.get('address').get(\"street_address\"),\n",
    "        \"zip_code\": response.get('address').get(\"zip_code\"),\n",
    "        \"state\": response.get('address').get(\"state\"),\n",
    "        \"country\": response.get('address').get(\"country\"),\n",
    "        \"lat\": response.get('address').get(\"coordinates\").get(\"lat\"),\n",
    "        \"lng\": response.get('address').get('coordinates').get(\"lng\"),\n",
    "        \"cc_number\": response.get('credit_card').get(\"cc_number\"),\n",
    "        \n",
    "        \"plan\": response.get('subscription').get(\"plan\"),\n",
    "        \"status\": response.get('subscription').get(\"status\"),\n",
    "        \"payment_method\": response.get('subscription').get(\"payment_method\"),\n",
    "        \"term\": response.get('subscription').get(\"term\")\n",
    "\n",
    "    })\n",
    "    \n",
    "\n",
    "user_df=pd.DataFrame(data)\n",
    "user_df.to_csv(r'/root/Assiginment/user1.csv')\n",
    "display(user_df)"
   ]
  },
  {
   "cell_type": "markdown",
   "id": "0af7e5ca",
   "metadata": {},
   "source": [
    "# Question 2\n",
    "- Read the CSV file you created in part one (first part) and load the data in the database of your choice.\n",
    "- Create a query/algorithm that will find the most common user properties, and return them as a result.\n",
    "- Create a query/algorithm that will find any similarities between users, that would suggest a &quot;strong&quot; or “weak (fuzzy)” connection between any 2 or more users IF that type of connection exists in the database.\n",
    "- Create visualization representation of results with Matplotlib."
   ]
  },
  {
   "cell_type": "code",
   "execution_count": null,
   "id": "7ae67a82",
   "metadata": {},
   "outputs": [],
   "source": []
  }
 ],
 "metadata": {
  "kernelspec": {
   "display_name": "Python 3 (ipykernel)",
   "language": "python",
   "name": "python3"
  },
  "language_info": {
   "codemirror_mode": {
    "name": "ipython",
    "version": 3
   },
   "file_extension": ".py",
   "mimetype": "text/x-python",
   "name": "python",
   "nbconvert_exporter": "python",
   "pygments_lexer": "ipython3",
   "version": "3.8.10"
  }
 },
 "nbformat": 4,
 "nbformat_minor": 5
}
